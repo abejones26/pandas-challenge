{
 "cells": [
  {
   "cell_type": "code",
   "execution_count": null,
   "metadata": {},
   "outputs": [],
   "source": [
    "# Dependencies and Setup\n",
    "import pandas as pd\n",
    "\n",
    "# File to Load. After copying path I have to remember to replace / with \\\\ because i'm using a windows\n",
    "file_to_load = \"C:\\\\Users\\\\abrah\\\\pandas-challenge\\\\HeroesOfPymoli\\\\Resources\\\\purchase_data.csv\"\n",
    "\n",
    "# Read Purchasing File and store into Pandas data frame\n",
    "# Use .tab to view more read_ options like html, clipboard, dict etc\n",
    "gamer_data = pd.read_csv(file_to_load)\n",
    "gamer_data"
   ]
  },
  {
   "cell_type": "raw",
   "metadata": {},
   "source": [
    "# First step is to find the unique players by using .unique()\n",
    "unique_players = gamer_data[\"SN\"].unique()\n",
    "unique_players\n",
    "\n",
    "# If I just use .count this will show me a count breakdown of varables in both columns and rows\n",
    "# If I use .count() this will show me a total count of each column only. This put me a step closer to solving for player count\n",
    "# The unique output gave me an array, so I saved it as a series\n",
    "unique_players_count = pd.Series(unique_players).count()\n",
    "\n",
    "# Now that I have a series with a count, I can create a dataframe\n",
    "total_players = pd.DataFrame({\"Total Player\" : [unique_players_count]})\n",
    "total_players"
   ]
  },
  {
   "cell_type": "code",
   "execution_count": null,
   "metadata": {},
   "outputs": [],
   "source": [
    "# Now I am going to use the same steps to find unique players to find the items\n",
    "unique_items = gamer_data[\"Item ID\"].unique()\n",
    "unique_items\n",
    "\n",
    "# Saving an array as a dataframe. I get the total of 179 here, but the \"HeroesOfPymolistarter\" notes shows 183??\n",
    "unique_items_count = pd.Series(unique_items).count()\n",
    "unique_items_count"
   ]
  },
  {
   "cell_type": "code",
   "execution_count": null,
   "metadata": {},
   "outputs": [],
   "source": [
    "# Finding the average price here\n",
    "total_revenue = gamer_data[\"Price\"].sum()\n",
    "total_revenue"
   ]
  },
  {
   "cell_type": "code",
   "execution_count": null,
   "metadata": {},
   "outputs": [],
   "source": [
    "# Finding the average of price\n",
    "total_purchases_count = gamer_data[\"Price\"].count()\n",
    "total_purchases_count"
   ]
  },
  {
   "cell_type": "code",
   "execution_count": null,
   "metadata": {},
   "outputs": [],
   "source": [
    "average_price = total_revenue / total_revenue_count\n",
    "average_price"
   ]
  },
  {
   "cell_type": "code",
   "execution_count": null,
   "metadata": {},
   "outputs": [],
   "source": [
    "unique_items_table = pd.DataFrame({\"Number of Unique Items\" : [unique_items_count], \"Average Price\" : [average_price], \"Number of Purchases\" : [total_purchases_count], \"Total Revenue\" : [total_revenue]})\n",
    "unique_items_table"
   ]
  },
  {
   "cell_type": "code",
   "execution_count": null,
   "metadata": {},
   "outputs": [],
   "source": [
    "# Percentage and Count of Male Players\n",
    "# Percentage and Count of Female Players\n",
    "# Percentage and Count of Other / Non-Disclosed\n",
    "\n",
    "# At first solve for total count and index by list values. WRONG\n",
    "# Then I try counting the gender, find a unique gamers. WRONG\n",
    "# What worked best was \"FILTERING\" per gender\n",
    "gender_male_filter = gamer_data.loc[(gamer_data[\"Gender\"] == \"Male\"), :]\n",
    "gender_male_filter\n",
    "\n",
    "# Now I am able to find the amount of unique gamers using the unique name\n",
    "gender_male_filter_unique = gender_male_filter[\"SN\"].unique()\n",
    "gender_male_filter_unique\n",
    "\n",
    "# Now count how many male gamers there are\n",
    "total_male_gamers = pd.Series(gender_male_filter_unique).count()\n",
    "total_male_gamers"
   ]
  },
  {
   "cell_type": "code",
   "execution_count": null,
   "metadata": {},
   "outputs": [],
   "source": [
    "# Repeat steps for males to solve for Females\n",
    "\n",
    "# What worked best was \"FILTERING\" per gender\n",
    "gender_female_filter = gamer_data.loc[(gamer_data[\"Gender\"] == \"Female\"), :]\n",
    "gender_female_filter\n",
    "\n",
    "# Now I am able to find the amount of unique gamers using the unique name\n",
    "gender_female_filter_unique = gender_female_filter[\"SN\"].unique()\n",
    "gender_female_filter_unique\n",
    "\n",
    "# Now count how many female gamers there are\n",
    "total_female_gamers = pd.Series(gender_female_filter_unique).count()\n",
    "total_female_gamers"
   ]
  },
  {
   "cell_type": "code",
   "execution_count": null,
   "metadata": {},
   "outputs": [],
   "source": [
    "# Repeat steps for males to solve for Other / Non-Disclosed\n",
    "\n",
    "# What worked best was \"FILTERING\" per gender\n",
    "gender_ond_filter = gamer_data.loc[(gamer_data[\"Gender\"] == \"Other / Non-Disclosed\"), :]\n",
    "gender_ond_filter\n",
    "\n",
    "# Now I am able to find the amount of unique gamers using the unique name\n",
    "gender_ond_filter_unique = gender_ond_filter[\"SN\"].unique()\n",
    "gender_ond_filter_unique\n",
    "\n",
    "# Now count how many female gamers there are\n",
    "total_ond_gamers = pd.Series(gender_ond_filter_unique).count()\n",
    "total_ond_gamers"
   ]
  },
  {
   "cell_type": "code",
   "execution_count": null,
   "metadata": {},
   "outputs": [],
   "source": [
    "# Finding the total amount of gamers so that I am able to find individual gender percentage\n",
    "total_gamers = total_male_gamers + total_female_gamers + total_ond_gamers\n",
    "total_gamers\n",
    "\n",
    "# Solving for male percentages\n",
    "percentage_male_gamers = total_male_gamers / total_gamers\n",
    "percentage_male_gamers\n",
    "\n",
    "# Solving for female percentages\n",
    "percentage_female_gamers = total_female_gamers / total_gamers\n",
    "percentage_female_gamers\n",
    "\n",
    "# Solving for Other / Non-Disclosed\n",
    "percentage_ond_gamers = total_ond_gamers / total_gamers\n",
    "percentage_ond_gamers"
   ]
  },
  {
   "cell_type": "code",
   "execution_count": null,
   "metadata": {},
   "outputs": [],
   "source": [
    "gender_demographics = pd.DataFrame({\"Total Count\" : [total_male_gamers, total_female_gamers, total_ond_gamers], \"Percentage_of_Players\" : [percentage_male_gamers, percentage_female_gamers, percentage_ond_gamers]}, index = [\"Male\", \"Female\", \"Other / Non-Disclosed\"])\n",
    "gender_demographics\n",
    "\n",
    "gender_demographics"
   ]
  },
  {
   "cell_type": "code",
   "execution_count": null,
   "metadata": {},
   "outputs": [],
   "source": [
    "gamer_data.groupby(['Gender']).count()"
   ]
  }
 ],
 "metadata": {
  "kernelspec": {
   "display_name": "Python 3",
   "language": "python",
   "name": "python3"
  },
  "language_info": {
   "codemirror_mode": {
    "name": "ipython",
    "version": 3
   },
   "file_extension": ".py",
   "mimetype": "text/x-python",
   "name": "python",
   "nbconvert_exporter": "python",
   "pygments_lexer": "ipython3",
   "version": "3.7.4"
  }
 },
 "nbformat": 4,
 "nbformat_minor": 4
}
