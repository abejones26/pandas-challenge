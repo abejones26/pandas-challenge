{
 "cells": [
  {
   "cell_type": "code",
   "execution_count": null,
   "metadata": {},
   "outputs": [],
   "source": [
    "# Dependencies and Setup\n",
    "import pandas as pd\n",
    "\n",
    "# File to Load. After copying path I have to remember to replace / with \\\\ because i'm using a windows\n",
    "file_to_load = \"C:\\\\Users\\\\abrah\\\\pandas-challenge\\\\HeroesOfPymoli\\\\Resources\\\\purchase_data.csv\"\n",
    "\n",
    "# Read Purchasing File and store into Pandas data frame\n",
    "# Use .tab to view more read_ options like html, clipboard, dict etc\n",
    "gamer_data = pd.read_csv(file_to_load)\n",
    "gamer_data"
   ]
  },
  {
   "cell_type": "code",
   "execution_count": 906,
   "metadata": {},
   "outputs": [
    {
     "data": {
      "text/html": [
       "<div>\n",
       "<style scoped>\n",
       "    .dataframe tbody tr th:only-of-type {\n",
       "        vertical-align: middle;\n",
       "    }\n",
       "\n",
       "    .dataframe tbody tr th {\n",
       "        vertical-align: top;\n",
       "    }\n",
       "\n",
       "    .dataframe thead th {\n",
       "        text-align: right;\n",
       "    }\n",
       "</style>\n",
       "<table border=\"1\" class=\"dataframe\">\n",
       "  <thead>\n",
       "    <tr style=\"text-align: right;\">\n",
       "      <th></th>\n",
       "      <th>Total Player</th>\n",
       "    </tr>\n",
       "  </thead>\n",
       "  <tbody>\n",
       "    <tr>\n",
       "      <td>0</td>\n",
       "      <td>576</td>\n",
       "    </tr>\n",
       "  </tbody>\n",
       "</table>\n",
       "</div>"
      ],
      "text/plain": [
       "   Total Player\n",
       "0           576"
      ]
     },
     "execution_count": 906,
     "metadata": {},
     "output_type": "execute_result"
    }
   ],
   "source": [
    "# First step is to find the unique players by using .unique()\n",
    "unique_players = gamer_data[\"SN\"].unique()\n",
    "unique_players\n",
    "\n",
    "# If I just use .count this will show me a count breakdown of varables in both columns and rows\n",
    "# If I use .count() this will show me a total count of each column only. This put me a step closer to solving for play count\n",
    "# The unique output gave me an array. so I saved it as a series\n",
    "unique_players_count = pd.Series(unique_players).count()\n",
    "unique_players_count\n",
    "\n",
    "# Now that I have a series with a count, I can create a dataframe\n",
    "total_players = pd.DataFrame({\"Total Player\" : [unique_players_count]})\n",
    "total_players"
   ]
  },
  {
   "cell_type": "code",
   "execution_count": null,
   "metadata": {},
   "outputs": [],
   "source": [
    "# Now I am going to use the same steps to find unique players to find the items\n",
    "unique_items = gamer_data[\"Item ID\"].unique()\n",
    "unique_items\n",
    "\n",
    "# Saving an array as a dataframe. I get the total of 179 here, but the \"HeroesOfPymolistarter\" notes shows 183??\n",
    "unique_items_count = pd.Series(unique_items).count()\n",
    "unique_items_count"
   ]
  },
  {
   "cell_type": "code",
   "execution_count": null,
   "metadata": {},
   "outputs": [],
   "source": [
    "# Finding the sum price here\n",
    "total_revenue = gamer_data[\"Price\"].sum()\n",
    "total_revenue"
   ]
  },
  {
   "cell_type": "code",
   "execution_count": null,
   "metadata": {},
   "outputs": [],
   "source": [
    "# Finding the count of price\n",
    "total_purchases_count = gamer_data[\"Price\"].count()\n",
    "total_purchases_count"
   ]
  },
  {
   "cell_type": "code",
   "execution_count": null,
   "metadata": {},
   "outputs": [],
   "source": [
    "# Basic average of price\n",
    "average_price = total_revenue / total_revenue_count\n",
    "average_price"
   ]
  },
  {
   "cell_type": "code",
   "execution_count": 911,
   "metadata": {},
   "outputs": [
    {
     "data": {
      "text/html": [
       "<div>\n",
       "<style scoped>\n",
       "    .dataframe tbody tr th:only-of-type {\n",
       "        vertical-align: middle;\n",
       "    }\n",
       "\n",
       "    .dataframe tbody tr th {\n",
       "        vertical-align: top;\n",
       "    }\n",
       "\n",
       "    .dataframe thead th {\n",
       "        text-align: right;\n",
       "    }\n",
       "</style>\n",
       "<table border=\"1\" class=\"dataframe\">\n",
       "  <thead>\n",
       "    <tr style=\"text-align: right;\">\n",
       "      <th></th>\n",
       "      <th>Number of Unique Items</th>\n",
       "      <th>Average Price</th>\n",
       "      <th>Number of Purchases</th>\n",
       "      <th>Total Revenue</th>\n",
       "    </tr>\n",
       "  </thead>\n",
       "  <tbody>\n",
       "    <tr>\n",
       "      <td>0</td>\n",
       "      <td>183</td>\n",
       "      <td>$3.05</td>\n",
       "      <td>780</td>\n",
       "      <td>$2379.77</td>\n",
       "    </tr>\n",
       "  </tbody>\n",
       "</table>\n",
       "</div>"
      ],
      "text/plain": [
       "   Number of Unique Items Average Price  Number of Purchases Total Revenue\n",
       "0                     183         $3.05                  780      $2379.77"
      ]
     },
     "execution_count": 911,
     "metadata": {},
     "output_type": "execute_result"
    }
   ],
   "source": [
    "unique_items_table = pd.DataFrame({\"Number of Unique Items\" : [unique_items_count], \"Average Price\" : [average_price], \"Number of Purchases\" : [total_purchases_count], \"Total Revenue\" : [total_revenue]})\n",
    "unique_items_table\n",
    "\n",
    "unique_items_table[\"Average Price\"] = unique_items_table[\"Average Price\"].map(\"${:.2f}\".format)\n",
    "unique_items_table[\"Total Revenue\"] = unique_items_table[\"Total Revenue\"].map(\"${:.2f}\".format)\n",
    "unique_items_table"
   ]
  },
  {
   "cell_type": "code",
   "execution_count": null,
   "metadata": {},
   "outputs": [],
   "source": [
    "# Percentage and Count of Male Players\n",
    "# Percentage and Count of Female Players\n",
    "# Percentage and Count of Other / Non-Disclosed\n",
    "\n",
    "# At first solve for total count and index by list values. WRONG\n",
    "# Then I try counting the gender, find a unique gamers. WRONG\n",
    "# What worked best was \"FILTERING\" per gender\n",
    "gender_male_filter = gamer_data.loc[(gamer_data[\"Gender\"] == \"Male\"), :]\n",
    "gender_male_filter\n",
    "\n",
    "# Now I am able to find the amount of unique gamers using the unique name\n",
    "gender_male_filter_unique = gender_male_filter[\"SN\"].unique()\n",
    "gender_male_filter_unique\n",
    "\n",
    "# Now count how many male gamers there are\n",
    "total_male_gamers = pd.Series(gender_male_filter_unique).count()\n",
    "total_male_gamers"
   ]
  },
  {
   "cell_type": "code",
   "execution_count": null,
   "metadata": {},
   "outputs": [],
   "source": [
    "# Repeat steps for males to solve for Females\n",
    "\n",
    "# What worked best was \"FILTERING\" per gender\n",
    "gender_female_filter = gamer_data.loc[(gamer_data[\"Gender\"] == \"Female\"), :]\n",
    "gender_female_filter\n",
    "\n",
    "# Now I am able to find the amount of unique gamers using the unique name\n",
    "gender_female_filter_unique = gender_female_filter[\"SN\"].unique()\n",
    "gender_female_filter_unique\n",
    "\n",
    "# Now count how many female gamers there are\n",
    "total_female_gamers = pd.Series(gender_female_filter_unique).count()\n",
    "total_female_gamers"
   ]
  },
  {
   "cell_type": "code",
   "execution_count": null,
   "metadata": {},
   "outputs": [],
   "source": [
    "# Repeat steps for males to solve for Other / Non-Disclosed\n",
    "\n",
    "# What worked best was \"FILTERING\" per gender\n",
    "gender_ond_filter = gamer_data.loc[(gamer_data[\"Gender\"] == \"Other / Non-Disclosed\"), :]\n",
    "gender_ond_filter\n",
    "\n",
    "# Now I am able to find the amount of unique gamers using the unique name\n",
    "gender_ond_filter_unique = gender_ond_filter[\"SN\"].unique()\n",
    "gender_ond_filter_unique\n",
    "\n",
    "# Now count how many female gamers there are\n",
    "total_ond_gamers = pd.Series(gender_ond_filter_unique).count()\n",
    "total_ond_gamers"
   ]
  },
  {
   "cell_type": "code",
   "execution_count": null,
   "metadata": {},
   "outputs": [],
   "source": [
    "# Finding the total amount of gamers so that I am able to find individual gender percentage\n",
    "total_gamers = total_male_gamers + total_female_gamers + total_ond_gamers\n",
    "total_gamers\n",
    "\n",
    "# Solving for male percentages\n",
    "percentage_male_gamers = total_male_gamers / total_gamers\n",
    "percentage_male_gamers\n",
    "\n",
    "# Solving for female percentages\n",
    "percentage_female_gamers = total_female_gamers / total_gamers\n",
    "percentage_female_gamers\n",
    "\n",
    "# Solving for Other / Non-Disclosed\n",
    "percentage_ond_gamers = total_ond_gamers / total_gamers\n",
    "percentage_ond_gamers"
   ]
  },
  {
   "cell_type": "code",
   "execution_count": 916,
   "metadata": {},
   "outputs": [
    {
     "data": {
      "text/html": [
       "<div>\n",
       "<style scoped>\n",
       "    .dataframe tbody tr th:only-of-type {\n",
       "        vertical-align: middle;\n",
       "    }\n",
       "\n",
       "    .dataframe tbody tr th {\n",
       "        vertical-align: top;\n",
       "    }\n",
       "\n",
       "    .dataframe thead th {\n",
       "        text-align: right;\n",
       "    }\n",
       "</style>\n",
       "<table border=\"1\" class=\"dataframe\">\n",
       "  <thead>\n",
       "    <tr style=\"text-align: right;\">\n",
       "      <th></th>\n",
       "      <th>Total Count</th>\n",
       "      <th>Percentage_of_Players</th>\n",
       "    </tr>\n",
       "  </thead>\n",
       "  <tbody>\n",
       "    <tr>\n",
       "      <td>Male</td>\n",
       "      <td>484</td>\n",
       "      <td>84.03%</td>\n",
       "    </tr>\n",
       "    <tr>\n",
       "      <td>Female</td>\n",
       "      <td>81</td>\n",
       "      <td>14.06%</td>\n",
       "    </tr>\n",
       "    <tr>\n",
       "      <td>Other / Non-Disclosed</td>\n",
       "      <td>11</td>\n",
       "      <td>1.91%</td>\n",
       "    </tr>\n",
       "  </tbody>\n",
       "</table>\n",
       "</div>"
      ],
      "text/plain": [
       "                       Total Count Percentage_of_Players\n",
       "Male                           484                84.03%\n",
       "Female                          81                14.06%\n",
       "Other / Non-Disclosed           11                 1.91%"
      ]
     },
     "execution_count": 916,
     "metadata": {},
     "output_type": "execute_result"
    }
   ],
   "source": [
    "gender_demographics = pd.DataFrame({\"Total Count\" : [total_male_gamers, total_female_gamers, total_ond_gamers], \"Percentage_of_Players\" : [percentage_male_gamers, percentage_female_gamers, percentage_ond_gamers]}, index = [\"Male\", \"Female\", \"Other / Non-Disclosed\"])\n",
    "gender_demographics\n",
    "\n",
    "gender_demographics[\"Percentage_of_Players\"] = gender_demographics[\"Percentage_of_Players\"].map(\"{0:,.2%}\".format)\n",
    "gender_demographics"
   ]
  },
  {
   "cell_type": "code",
   "execution_count": null,
   "metadata": {},
   "outputs": [],
   "source": [
    "# Purchasing Analysis (Gender)¶\n",
    "\n",
    "# Run basic calculations to obtain purchase count, avg. purchase price, avg. purchase total per person etc. by gender\n",
    "# Create a summary data frame to hold the results\n",
    "# Optional: give the displayed data cleaner formatting\n",
    "# Display the summary data frame\n",
    "\n",
    "# Using groupby to obtain purchase count by gender\n",
    "grouped_gender_data_df = gamer_data.groupby(['Gender']).count()\n",
    "grouped_gender_data_df\n",
    "\n",
    "# Apply filter for Purchase ID.\n",
    "filtered_purchase_count = grouped_gender_data_df['Purchase ID']\n",
    "filtered_purchase_count"
   ]
  },
  {
   "cell_type": "markdown",
   "metadata": {},
   "source": [
    "For my next steps I will repeat above"
   ]
  },
  {
   "cell_type": "code",
   "execution_count": null,
   "metadata": {},
   "outputs": [],
   "source": [
    "filtered_price_count = grouped_gender_count_df['Price']\n",
    "filtered_price_count"
   ]
  },
  {
   "cell_type": "code",
   "execution_count": null,
   "metadata": {},
   "outputs": [],
   "source": [
    "grouped_gender_sum_df = gamer_data.groupby(['Gender']).sum()\n",
    "grouped_gender_sum_df\n",
    "\n",
    "filtered_price_sum = grouped_gender_sum_df['Price']\n",
    "filtered_price_sum"
   ]
  },
  {
   "cell_type": "code",
   "execution_count": null,
   "metadata": {},
   "outputs": [],
   "source": [
    "# Finding the average price using objects price-sum and price-count. This will be a column in my DataFrame\n",
    "average_purchased_price = filtered_price_sum / filtered_price_count\n",
    "average_purchased_price"
   ]
  },
  {
   "cell_type": "code",
   "execution_count": null,
   "metadata": {},
   "outputs": [],
   "source": [
    "grouped_gender_nunique_df = gamer_data.groupby(['Gender']).nunique()\n",
    "grouped_gender_nunique_df\n",
    "\n",
    "# Here I had to use nunique to find per person\n",
    "filtered_sn_nunique = grouped_gender_nunique_df['SN']\n",
    "filtered_sn_nunique"
   ]
  },
  {
   "cell_type": "code",
   "execution_count": null,
   "metadata": {},
   "outputs": [],
   "source": [
    "# Finding the average total purchase per person using objects price sum and nunique people\n",
    "avg_total_purchase_per_person = filtered_price_sum / filtered_sn_nunique\n",
    "avg_total_purchase_per_person"
   ]
  },
  {
   "cell_type": "code",
   "execution_count": 923,
   "metadata": {},
   "outputs": [
    {
     "data": {
      "text/html": [
       "<div>\n",
       "<style scoped>\n",
       "    .dataframe tbody tr th:only-of-type {\n",
       "        vertical-align: middle;\n",
       "    }\n",
       "\n",
       "    .dataframe tbody tr th {\n",
       "        vertical-align: top;\n",
       "    }\n",
       "\n",
       "    .dataframe thead th {\n",
       "        text-align: right;\n",
       "    }\n",
       "</style>\n",
       "<table border=\"1\" class=\"dataframe\">\n",
       "  <thead>\n",
       "    <tr style=\"text-align: right;\">\n",
       "      <th></th>\n",
       "      <th>Purchase Count</th>\n",
       "      <th>Average Purchase Price</th>\n",
       "      <th>Total Price Value</th>\n",
       "      <th>Avg Total Purcahse Per Person</th>\n",
       "    </tr>\n",
       "  </thead>\n",
       "  <tbody>\n",
       "    <tr>\n",
       "      <td>Female</td>\n",
       "      <td>113</td>\n",
       "      <td>$3.20</td>\n",
       "      <td>$361.94</td>\n",
       "      <td>$4.47</td>\n",
       "    </tr>\n",
       "    <tr>\n",
       "      <td>Male</td>\n",
       "      <td>652</td>\n",
       "      <td>$3.02</td>\n",
       "      <td>$1967.64</td>\n",
       "      <td>$4.07</td>\n",
       "    </tr>\n",
       "    <tr>\n",
       "      <td>Other / Non-Disclosed</td>\n",
       "      <td>15</td>\n",
       "      <td>$3.35</td>\n",
       "      <td>$50.19</td>\n",
       "      <td>$4.56</td>\n",
       "    </tr>\n",
       "  </tbody>\n",
       "</table>\n",
       "</div>"
      ],
      "text/plain": [
       "                       Purchase Count Average Purchase Price  \\\n",
       "Female                            113                  $3.20   \n",
       "Male                              652                  $3.02   \n",
       "Other / Non-Disclosed              15                  $3.35   \n",
       "\n",
       "                      Total Price Value Avg Total Purcahse Per Person  \n",
       "Female                          $361.94                         $4.47  \n",
       "Male                           $1967.64                         $4.07  \n",
       "Other / Non-Disclosed            $50.19                         $4.56  "
      ]
     },
     "execution_count": 923,
     "metadata": {},
     "output_type": "execute_result"
    }
   ],
   "source": [
    "purchasing_analysis = pd.DataFrame({\"Purchase Count\" : filtered_purchase_count, \"Average Purchase Price\": average_purchased_price, \"Total Price Value\" : filtered_price_sum, \"Avg Total Purcahse Per Person\" : avg_total_purchase_per_person}, index = [\"Female\",\"Male\",\"Other / Non-Disclosed\"])\n",
    "purchasing_analysis\n",
    "\n",
    "# Here I was excited to finally learn to format by $ and %. \n",
    "purchasing_analysis[\"Average Purchase Price\"] = purchasing_analysis[\"Average Purchase Price\"].map(\"${:.2f}\".format)\n",
    "purchasing_analysis[\"Total Price Value\"] = purchasing_analysis[\"Total Price Value\"].map(\"${:.2f}\".format)\n",
    "purchasing_analysis[\"Avg Total Purcahse Per Person\"] = purchasing_analysis[\"Avg Total Purcahse Per Person\"].map(\"${:.2f}\".format)\n",
    "purchasing_analysis"
   ]
  },
  {
   "cell_type": "markdown",
   "metadata": {},
   "source": [
    "Age Demographics"
   ]
  },
  {
   "cell_type": "code",
   "execution_count": null,
   "metadata": {},
   "outputs": [],
   "source": [
    "# Categorize the existing players using the age bins. Hint: use pd.cut()\n",
    "# This dataframe filter for my unique value when I grouped by SN\n",
    "gamer_data_gb_sn = gamer_data.groupby([\"SN\"]).max()\n",
    "gamer_data_gb_sn_df = pd.DataFrame(gamer_data_gb_sn)\n",
    "gamer_data_gb_sn_df\n",
    "\n",
    "raw_gamer_data_percent = gamer_data_gb_sn_df[\"Age\"] / gamer_data_gb_sn_df[\"Age\"].count()\n",
    "\n",
    "# Set dataframe for binning\n",
    "raw_gamer_data = {\"Total Count\" : gamer_data_gb_sn_df[\"Age\"], \"Percent of Players\" : raw_gamer_data_percent}\n",
    "gamer_age_df = pd.DataFrame(raw_gamer_data)\n",
    "gamer_age_df"
   ]
  },
  {
   "cell_type": "code",
   "execution_count": null,
   "metadata": {},
   "outputs": [],
   "source": [
    "# At first I made the mistake of [0, 10, 15, 20 etc]\n",
    "bins = [0, 9, 14, 19, 24, 29, 34, 39, 50]\n",
    "\n",
    "# Creating names for my bins\n",
    "group_names = [\"<10\", \"10-14\", \"15-19\", \"20-24\", \"25-29\", \"30-34\", \"35-39\", \"40+\"]\n",
    "group_names"
   ]
  },
  {
   "cell_type": "code",
   "execution_count": null,
   "metadata": {},
   "outputs": [],
   "source": [
    "# This is where the binning happens. I have to keep in mind \"Test Score Summary\" is being appending to the dataframe with bin values\n",
    "gamer_age_df[\"Age Ranges\"] = pd.cut(gamer_age_df[\"Total Count\"], bins, labels=group_names)\n",
    "gamer_age_df"
   ]
  },
  {
   "cell_type": "code",
   "execution_count": null,
   "metadata": {},
   "outputs": [],
   "source": [
    "# Now that I have my binning table. I can groupby\n",
    "age_demo = gamer_age_df.groupby([\"Age Ranges\"]).count()\n",
    "age_demo\n",
    "\n",
    "age_gb_total = age_demo[\"Total Count\"]\n",
    "age_gb_total"
   ]
  },
  {
   "cell_type": "code",
   "execution_count": null,
   "metadata": {},
   "outputs": [],
   "source": [
    "# This part sucked the most! Spent to many hours on this part. It has to be a better way.\n",
    "\n",
    "age_demo = gamer_age_df.groupby([\"Age Ranges\"]).count()\n",
    "age_demo\n",
    "\n",
    "age_gb_sum = age_demo[\"Percent of Players\"].sum()\n",
    "age_gb_sum\n",
    "\n",
    "# This part was confusing because I did this calculation within my setup block \\ \n",
    "# and now have to do it again. I'll have to come back to this and get a better understanding.\n",
    "# The only different here I didn't have to use the count function\n",
    "age_gb_df = age_demo / age_gb_sum\n",
    "age_gb_percent = age_gb_df[\"Percent of Players\"]\n",
    "age_gb_percent"
   ]
  },
  {
   "cell_type": "code",
   "execution_count": 929,
   "metadata": {},
   "outputs": [
    {
     "data": {
      "text/html": [
       "<div>\n",
       "<style scoped>\n",
       "    .dataframe tbody tr th:only-of-type {\n",
       "        vertical-align: middle;\n",
       "    }\n",
       "\n",
       "    .dataframe tbody tr th {\n",
       "        vertical-align: top;\n",
       "    }\n",
       "\n",
       "    .dataframe thead th {\n",
       "        text-align: right;\n",
       "    }\n",
       "</style>\n",
       "<table border=\"1\" class=\"dataframe\">\n",
       "  <thead>\n",
       "    <tr style=\"text-align: right;\">\n",
       "      <th></th>\n",
       "      <th>Total Count</th>\n",
       "      <th>Percentage of Players</th>\n",
       "    </tr>\n",
       "    <tr>\n",
       "      <th>Age Ranges</th>\n",
       "      <th></th>\n",
       "      <th></th>\n",
       "    </tr>\n",
       "  </thead>\n",
       "  <tbody>\n",
       "    <tr>\n",
       "      <td>&lt;10</td>\n",
       "      <td>17</td>\n",
       "      <td>2.95%</td>\n",
       "    </tr>\n",
       "    <tr>\n",
       "      <td>10-14</td>\n",
       "      <td>22</td>\n",
       "      <td>3.82%</td>\n",
       "    </tr>\n",
       "    <tr>\n",
       "      <td>15-19</td>\n",
       "      <td>107</td>\n",
       "      <td>18.58%</td>\n",
       "    </tr>\n",
       "    <tr>\n",
       "      <td>20-24</td>\n",
       "      <td>258</td>\n",
       "      <td>44.79%</td>\n",
       "    </tr>\n",
       "    <tr>\n",
       "      <td>25-29</td>\n",
       "      <td>77</td>\n",
       "      <td>13.37%</td>\n",
       "    </tr>\n",
       "    <tr>\n",
       "      <td>30-34</td>\n",
       "      <td>52</td>\n",
       "      <td>9.03%</td>\n",
       "    </tr>\n",
       "    <tr>\n",
       "      <td>35-39</td>\n",
       "      <td>31</td>\n",
       "      <td>5.38%</td>\n",
       "    </tr>\n",
       "    <tr>\n",
       "      <td>40+</td>\n",
       "      <td>12</td>\n",
       "      <td>2.08%</td>\n",
       "    </tr>\n",
       "  </tbody>\n",
       "</table>\n",
       "</div>"
      ],
      "text/plain": [
       "            Total Count Percentage of Players\n",
       "Age Ranges                                   \n",
       "<10                  17                 2.95%\n",
       "10-14                22                 3.82%\n",
       "15-19               107                18.58%\n",
       "20-24               258                44.79%\n",
       "25-29                77                13.37%\n",
       "30-34                52                 9.03%\n",
       "35-39                31                 5.38%\n",
       "40+                  12                 2.08%"
      ]
     },
     "execution_count": 929,
     "metadata": {},
     "output_type": "execute_result"
    }
   ],
   "source": [
    "age_demographics = pd.DataFrame({\"Total Count\": age_gb_total, \"Percentage of Players\": age_gb_percent})\n",
    "\n",
    "age_demographics[\"Percentage of Players\"] = age_demographics[\"Percentage of Players\"].map(\"{0:,.2%}\".format)\n",
    "age_demographics"
   ]
  },
  {
   "cell_type": "markdown",
   "metadata": {},
   "source": [
    "Purchasing Analysis (Age)"
   ]
  },
  {
   "cell_type": "code",
   "execution_count": null,
   "metadata": {},
   "outputs": [],
   "source": [
    "raw_age_data = {\"Purchase ID\": gamer_data['Purchase ID'], \"SN\": gamer_data['SN'], \"Gender\": gamer_data['Gender'], \"Item ID\": gamer_data['Item ID'], \"Item Name\": gamer_data['Item Name'], \"Price\": gamer_data['Price'], \"Age\": gamer_data['Age']}\n",
    "raw_age_data_df = pd.DataFrame(raw_age_data)\n",
    "raw_age_data_df"
   ]
  },
  {
   "cell_type": "code",
   "execution_count": null,
   "metadata": {},
   "outputs": [],
   "source": [
    "# At first I made the mistake of [0, 10, 15, 20 etc]\n",
    "bins = [0, 9, 14, 19, 24, 29, 34, 39, 50]\n",
    "\n",
    "# Creating names for my bins\n",
    "group_names = [\"<10\", \"10-14\", \"15-19\", \"20-24\", \"25-29\", \"30-34\", \"35-39\", \"40+\"]\n",
    "group_names"
   ]
  },
  {
   "cell_type": "code",
   "execution_count": null,
   "metadata": {},
   "outputs": [],
   "source": [
    "# This is where the binning happens. I have to keep in mind \"Test Score Summary\" is being appending to the dataframe with bin values\n",
    "raw_age_data_df[\"Age Ranges\"] = pd.cut(raw_age_data_df[\"Age\"], bins, labels=group_names)\n",
    "raw_age_data_df.head() "
   ]
  },
  {
   "cell_type": "code",
   "execution_count": null,
   "metadata": {},
   "outputs": [],
   "source": [
    "gb_age_nun = raw_age_data_df.groupby('Age Ranges').nunique()\n",
    "\n",
    "fil_age_nun_purcID = gb_age_nun['Purchase ID']\n",
    "fil_age_nun_purcID"
   ]
  },
  {
   "cell_type": "code",
   "execution_count": null,
   "metadata": {},
   "outputs": [],
   "source": [
    "gb_age_sum = raw_age_data_df.groupby('Age Ranges').sum()\n",
    "gb_age_sum\n",
    "\n",
    "fil_age_sum_price = gb_age_sum['Price']\n",
    "fil_age_sum_price"
   ]
  },
  {
   "cell_type": "code",
   "execution_count": null,
   "metadata": {},
   "outputs": [],
   "source": [
    "gb_age_count = raw_age_data_df.groupby('Age Ranges').count()\n",
    "\n",
    "fil_age_count = gb_age_count['Age']\n",
    "fil_age_count"
   ]
  },
  {
   "cell_type": "code",
   "execution_count": null,
   "metadata": {},
   "outputs": [],
   "source": [
    "avg_purc_price = gb_age_sum_price / fil_age_count\n",
    "avg_purc_price"
   ]
  },
  {
   "cell_type": "code",
   "execution_count": null,
   "metadata": {},
   "outputs": [],
   "source": [
    "fil_age_sn = gb_age_nun['SN']\n",
    "fil_age_sn"
   ]
  },
  {
   "cell_type": "code",
   "execution_count": null,
   "metadata": {},
   "outputs": [],
   "source": [
    "avg_tot_purc_per_person = fil_age_sum_price / fil_age_sn\n",
    "avg_tot_purc_per_person"
   ]
  },
  {
   "cell_type": "code",
   "execution_count": 1107,
   "metadata": {},
   "outputs": [
    {
     "data": {
      "text/html": [
       "<div>\n",
       "<style scoped>\n",
       "    .dataframe tbody tr th:only-of-type {\n",
       "        vertical-align: middle;\n",
       "    }\n",
       "\n",
       "    .dataframe tbody tr th {\n",
       "        vertical-align: top;\n",
       "    }\n",
       "\n",
       "    .dataframe thead th {\n",
       "        text-align: right;\n",
       "    }\n",
       "</style>\n",
       "<table border=\"1\" class=\"dataframe\">\n",
       "  <thead>\n",
       "    <tr style=\"text-align: right;\">\n",
       "      <th></th>\n",
       "      <th>Purchase Count</th>\n",
       "      <th>Average Purchase Price</th>\n",
       "      <th>Total Price Value</th>\n",
       "      <th>Avg Total Purcahse Per Person</th>\n",
       "    </tr>\n",
       "    <tr>\n",
       "      <th>Age Ranges</th>\n",
       "      <th></th>\n",
       "      <th></th>\n",
       "      <th></th>\n",
       "      <th></th>\n",
       "    </tr>\n",
       "  </thead>\n",
       "  <tbody>\n",
       "    <tr>\n",
       "      <td>&lt;10</td>\n",
       "      <td>23</td>\n",
       "      <td>$3.35</td>\n",
       "      <td>$77.13</td>\n",
       "      <td>$4.54</td>\n",
       "    </tr>\n",
       "    <tr>\n",
       "      <td>10-14</td>\n",
       "      <td>28</td>\n",
       "      <td>$2.96</td>\n",
       "      <td>$82.78</td>\n",
       "      <td>$3.76</td>\n",
       "    </tr>\n",
       "    <tr>\n",
       "      <td>15-19</td>\n",
       "      <td>136</td>\n",
       "      <td>$3.04</td>\n",
       "      <td>$412.89</td>\n",
       "      <td>$3.86</td>\n",
       "    </tr>\n",
       "    <tr>\n",
       "      <td>20-24</td>\n",
       "      <td>365</td>\n",
       "      <td>$3.05</td>\n",
       "      <td>$1114.06</td>\n",
       "      <td>$4.32</td>\n",
       "    </tr>\n",
       "    <tr>\n",
       "      <td>25-29</td>\n",
       "      <td>101</td>\n",
       "      <td>$2.90</td>\n",
       "      <td>$293.00</td>\n",
       "      <td>$3.81</td>\n",
       "    </tr>\n",
       "    <tr>\n",
       "      <td>30-34</td>\n",
       "      <td>73</td>\n",
       "      <td>$2.93</td>\n",
       "      <td>$214.00</td>\n",
       "      <td>$4.12</td>\n",
       "    </tr>\n",
       "    <tr>\n",
       "      <td>35-39</td>\n",
       "      <td>41</td>\n",
       "      <td>$3.60</td>\n",
       "      <td>$147.67</td>\n",
       "      <td>$4.76</td>\n",
       "    </tr>\n",
       "    <tr>\n",
       "      <td>40+</td>\n",
       "      <td>13</td>\n",
       "      <td>$2.94</td>\n",
       "      <td>$38.24</td>\n",
       "      <td>$3.19</td>\n",
       "    </tr>\n",
       "  </tbody>\n",
       "</table>\n",
       "</div>"
      ],
      "text/plain": [
       "            Purchase Count Average Purchase Price Total Price Value  \\\n",
       "Age Ranges                                                            \n",
       "<10                     23                  $3.35            $77.13   \n",
       "10-14                   28                  $2.96            $82.78   \n",
       "15-19                  136                  $3.04           $412.89   \n",
       "20-24                  365                  $3.05          $1114.06   \n",
       "25-29                  101                  $2.90           $293.00   \n",
       "30-34                   73                  $2.93           $214.00   \n",
       "35-39                   41                  $3.60           $147.67   \n",
       "40+                     13                  $2.94            $38.24   \n",
       "\n",
       "           Avg Total Purcahse Per Person  \n",
       "Age Ranges                                \n",
       "<10                                $4.54  \n",
       "10-14                              $3.76  \n",
       "15-19                              $3.86  \n",
       "20-24                              $4.32  \n",
       "25-29                              $3.81  \n",
       "30-34                              $4.12  \n",
       "35-39                              $4.76  \n",
       "40+                                $3.19  "
      ]
     },
     "execution_count": 1107,
     "metadata": {},
     "output_type": "execute_result"
    }
   ],
   "source": [
    "purc_age_bin = {\"Purchase Count\" : fil_age_nun_purcID, \"Average Purchase Price\": avg_purc_price, \"Total Price Value\" : fil_age_sum_price, \"Avg Total Purcahse Per Person\" : avg_tot_purc_per_person}\n",
    "purchasing_analysis_age = pd.DataFrame(purc_age_bin)\n",
    "purchasing_analysis_age\n",
    "\n",
    "# Here I was excited to finally learn to format by $ and %. \n",
    "purchasing_analysis_age [\"Average Purchase Price\"] = purchasing_analysis_age [\"Average Purchase Price\"].map(\"${:.2f}\".format)\n",
    "purchasing_analysis_age [\"Total Price Value\"] = purchasing_analysis_age [\"Total Price Value\"].map(\"${:.2f}\".format)\n",
    "purchasing_analysis_age [\"Avg Total Purcahse Per Person\"] = purchasing_analysis_age [\"Avg Total Purcahse Per Person\"].map(\"${:.2f}\".format)\n",
    "purchasing_analysis_age"
   ]
  },
  {
   "cell_type": "markdown",
   "metadata": {},
   "source": [
    "Top Spenders"
   ]
  },
  {
   "cell_type": "code",
   "execution_count": null,
   "metadata": {},
   "outputs": [],
   "source": [
    "# Create a Dataframe with columns puchcase ID, SN and Price\n",
    "# Set is as a dataframe in order to filter using loc\n",
    "raw_sp_data = {\"Purchase ID\": gamer_data['Purchase ID'], \"SN\": gamer_data['SN'], \"Price\": gamer_data['Price']}\n",
    "raw_sp_data_df = pd.DataFrame(raw_age_data)\n",
    "raw_sp_data_df.head()"
   ]
  },
  {
   "cell_type": "code",
   "execution_count": null,
   "metadata": {},
   "outputs": [],
   "source": [
    "# Use loc to filter. Now I am going to use Groupby to sort\n",
    "only_spend = raw_sp_data_df.loc[(raw_sp_data_df[\"SN\"] == \"Lisosia93\") | (raw_sp_data_df[\"SN\"] == \"Idastidru52\") | \\\n",
    "                                (raw_sp_data_df[\"SN\"] == \"Chamjask73\") | (raw_sp_data_df[\"SN\"] == \"Iral74\") | \\\n",
    "                                (raw_sp_data_df[\"SN\"] == \"Iskadarya95\"),:]\n",
    "sn_loc_df = pd.DataFrame(only_spend)\n",
    "sn_loc_df"
   ]
  },
  {
   "cell_type": "code",
   "execution_count": null,
   "metadata": {},
   "outputs": [],
   "source": [
    "sn_loc_count = sn_loc_df.groupby('SN').count()\n",
    "sn_loc_count\n",
    "\n",
    "sn_purchase_count = sn_loc_count['Purchase ID']\n",
    "sn_purchase_count"
   ]
  },
  {
   "cell_type": "code",
   "execution_count": null,
   "metadata": {},
   "outputs": [],
   "source": [
    "sn_loc_sum = sn_loc_df.groupby('SN').sum()\n",
    "sn_loc_sum\n",
    "\n",
    "sn_price_sum = sn_loc_sum['Price']\n",
    "sn_price_sum"
   ]
  },
  {
   "cell_type": "code",
   "execution_count": null,
   "metadata": {},
   "outputs": [],
   "source": [
    "avg_purc_price = sn_price_sum / sn_purchase_count\n",
    "avg_purc_price"
   ]
  },
  {
   "cell_type": "code",
   "execution_count": 1160,
   "metadata": {},
   "outputs": [
    {
     "data": {
      "text/html": [
       "<div>\n",
       "<style scoped>\n",
       "    .dataframe tbody tr th:only-of-type {\n",
       "        vertical-align: middle;\n",
       "    }\n",
       "\n",
       "    .dataframe tbody tr th {\n",
       "        vertical-align: top;\n",
       "    }\n",
       "\n",
       "    .dataframe thead th {\n",
       "        text-align: right;\n",
       "    }\n",
       "</style>\n",
       "<table border=\"1\" class=\"dataframe\">\n",
       "  <thead>\n",
       "    <tr style=\"text-align: right;\">\n",
       "      <th></th>\n",
       "      <th>Purchase Count</th>\n",
       "      <th>Average Purchase Price</th>\n",
       "      <th>Total Purchase Price</th>\n",
       "    </tr>\n",
       "    <tr>\n",
       "      <th>SN</th>\n",
       "      <th></th>\n",
       "      <th></th>\n",
       "      <th></th>\n",
       "    </tr>\n",
       "  </thead>\n",
       "  <tbody>\n",
       "    <tr>\n",
       "      <td>Lisosia93</td>\n",
       "      <td>5</td>\n",
       "      <td>$3.79</td>\n",
       "      <td>$18.96</td>\n",
       "    </tr>\n",
       "    <tr>\n",
       "      <td>Idastidru52</td>\n",
       "      <td>4</td>\n",
       "      <td>$3.86</td>\n",
       "      <td>$15.45</td>\n",
       "    </tr>\n",
       "    <tr>\n",
       "      <td>Iral74</td>\n",
       "      <td>4</td>\n",
       "      <td>$3.40</td>\n",
       "      <td>$13.62</td>\n",
       "    </tr>\n",
       "    <tr>\n",
       "      <td>Chamjask73</td>\n",
       "      <td>3</td>\n",
       "      <td>$4.61</td>\n",
       "      <td>$13.83</td>\n",
       "    </tr>\n",
       "    <tr>\n",
       "      <td>Iskadarya95</td>\n",
       "      <td>3</td>\n",
       "      <td>$4.37</td>\n",
       "      <td>$13.10</td>\n",
       "    </tr>\n",
       "  </tbody>\n",
       "</table>\n",
       "</div>"
      ],
      "text/plain": [
       "             Purchase Count Average Purchase Price Total Purchase Price\n",
       "SN                                                                     \n",
       "Lisosia93                 5                  $3.79               $18.96\n",
       "Idastidru52               4                  $3.86               $15.45\n",
       "Iral74                    4                  $3.40               $13.62\n",
       "Chamjask73                3                  $4.61               $13.83\n",
       "Iskadarya95               3                  $4.37               $13.10"
      ]
     },
     "execution_count": 1160,
     "metadata": {},
     "output_type": "execute_result"
    }
   ],
   "source": [
    "spender = {\"Purchase Count\": sn_purchase_count, \"Average Purchase Price\": avg_purc_price, \"Total Purchase Price\": sn_price_sum}\n",
    "top_spender = pd.DataFrame(spender)\n",
    "\n",
    "top_spender[\"Average Purchase Price\"] = top_spender[\"Average Purchase Price\"].map(\"${:.2f}\".format)\n",
    "top_spender[\"Total Purchase Price\"] = top_spender[\"Total Purchase Price\"].map(\"${:.2f}\".format)\n",
    "top_spender.sort_values(by='Purchase Count', ascending=False)"
   ]
  }
 ],
 "metadata": {
  "kernelspec": {
   "display_name": "Python 3",
   "language": "python",
   "name": "python3"
  },
  "language_info": {
   "codemirror_mode": {
    "name": "ipython",
    "version": 3
   },
   "file_extension": ".py",
   "mimetype": "text/x-python",
   "name": "python",
   "nbconvert_exporter": "python",
   "pygments_lexer": "ipython3",
   "version": "3.7.4"
  }
 },
 "nbformat": 4,
 "nbformat_minor": 4
}
